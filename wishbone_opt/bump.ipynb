{
 "cells": [
  {
   "cell_type": "code",
   "execution_count": null,
   "metadata": {
    "trusted": true
   },
   "outputs": [],
   "source": [
    "import numpy as np\n",
    "import matplotlib.pyplot as plt\n",
    "\n",
    "from tqdm import trange\n",
    "\n",
    "from skopt import Optimizer\n",
    "from skopt.plots import plot_convergence, plot_objective, plot_evaluations\n",
    "from skopt.space import Real\n",
    "\n",
    "import math\n",
    "\n",
    "from IPython.display import display\n",
    "import ipywidgets as widgets\n",
    "\n",
    "from circle_sphere import circ_to_sphere"
   ]
  },
  {
   "cell_type": "markdown",
   "metadata": {},
   "source": [
    "## Coordinate System Convention\n",
    "\n",
    "* +X is right\n",
    "* +Y is forward\n",
    "* +Z is up"
   ]
  },
  {
   "cell_type": "markdown",
   "metadata": {},
   "source": [
    "# Define Double Wishbone Hardpoints\n",
    "\n",
    "\n",
    "These are the Six 3D points that fully define the shape of the upper and lower wishbone, plus the kingpin axis length.\n",
    "\n",
    "* A forward and a rear point define the pivot axis of each wishbone.\n",
    "* The kingpin point finishes the triangle that defines the wishbone.\n",
    "* The distance between the upper and lower kingpin points fixes the length of the kingpin axis.\n",
    "\n",
    "Extra Points:\n",
    "* Wheel center should be on the axis of wheel rotation at the center of the wheel width\n",
    "* Spindle Point should another ride height point on the wheel spindle axis\n",
    "\n",
    "> I will likely port my hardpoint optimizer from [c++](https://github.com/cwru-baja/SimulatedAnnealingSuspensionOptimization) to python, which you could use as the first step in a full double wishbone suspension optimization flow."
   ]
  },
  {
   "cell_type": "code",
   "execution_count": null,
   "metadata": {},
   "outputs": [],
   "source": [
    "column_labels = [widgets.Label(txt) for txt in ('Hardpoint', 'X Coord', 'Y Coord', 'Z Coord')]\n",
    "\n",
    "row_labels = [widgets.Label(txt) for txt in ('Upper Rear',\n",
    "                                             'Upper Forward',\n",
    "                                             'Upper KP',\n",
    "                                             'Lower Rear',\n",
    "                                             'Lower Forward',\n",
    "                                             'Lower KP',\n",
    "                                             'Wheel Center',\n",
    "                                             'Spindle Point',\n",
    "                                             )]\n",
    "\n",
    "defaults = np.array([\n",
    "  (0, 0, 6),  # UR \n",
    "  (0, 16, 6), # UF \n",
    "  (18, 8, 6), # UK \n",
    "  (0, 2, 0), # LR \n",
    "  (0, 18, 0), # LF \n",
    "  (18, 10, 0), # LK \n",
    "  (20, 9, 3.0), # Wheel Center\n",
    "  (18, 9, 3.0), # Spindle Point\n",
    "])\n",
    "\n",
    "hardpoint_table = []\n",
    "\n",
    "table_body = []\n",
    "for r, row_label in enumerate(row_labels):\n",
    "  table_body.append(row_label)\n",
    "\n",
    "  for c in range(3):\n",
    "    table_cell = widgets.FloatText(value=defaults[r, c])\n",
    "    table_body.append(table_cell)\n",
    "    hardpoint_table.append(table_cell)\n",
    "\n",
    "items = column_labels + table_body\n",
    "display(widgets.GridBox(items,\n",
    "                layout=widgets.Layout(grid_template_columns=\"repeat(4, 150px)\")))"
   ]
  },
  {
   "cell_type": "markdown",
   "metadata": {},
   "source": [
    "## Define Upward and Downward Travel from Ride Height"
   ]
  },
  {
   "cell_type": "code",
   "execution_count": null,
   "metadata": {},
   "outputs": [],
   "source": [
    "display(widgets.FloatText(description='Compression', value=10))\n",
    "display(widgets.FloatText(description='Full Droop', value=5))"
   ]
  },
  {
   "cell_type": "code",
   "execution_count": null,
   "metadata": {
    "trusted": true
   },
   "outputs": [],
   "source": [
    "ride_seven = df.iloc[0:8, 4:7]\n",
    "shock_travels = df.iloc[4, 1:10]\n",
    "sp_upright_raw = np.array(df.iloc[17, 4:7], dtype='float64')\n",
    "sp_upright_rad = 0.5 * 1.20 # Josh approved 20% increase\n",
    "rack_travel_raw = 2.2253\n",
    "steering_rack_bounds = df.iloc[9:17, 1:4]\n",
    "\n",
    "forward = np.array(steering_rack_bounds.iloc[1] - steering_rack_bounds.iloc[0], dtype='float64')\n",
    "top_forward = np.array(steering_rack_bounds.iloc[3] - steering_rack_bounds.iloc[2], dtype='float64')\n",
    "up = np.array(steering_rack_bounds.iloc[2] - steering_rack_bounds.iloc[0], dtype='float64')\n",
    "\n",
    "kp_upper_resting = np.array(ride_seven.iloc[4], dtype='float64')\n",
    "kp_len = np.linalg.norm(ride_seven.iloc[5] - ride_seven.iloc[4])"
   ]
  },
  {
   "cell_type": "code",
   "execution_count": null,
   "metadata": {
    "trusted": true
   },
   "outputs": [],
   "source": [
    "lower_rear = np.array(ride_seven.iloc[2], dtype='float64')\n",
    "lower_front = np.array(ride_seven.iloc[3], dtype='float64')\n",
    "kp_lower_resting = np.array(ride_seven.iloc[5], dtype='float64')\n",
    "\n",
    "wheel = np.array(ride_seven.iloc[6], dtype='float64')\n",
    "spindle = np.array(ride_seven.iloc[7], dtype='float64')\n",
    "\n",
    "\n",
    "lower_r_f = lower_front - lower_rear\n",
    "lower_r_f /= np.linalg.norm(lower_r_f)\n",
    "\n",
    "# Project rear -> kp onto rear -> front\n",
    "dot = np.dot(kp_lower_resting - lower_rear, lower_r_f)\n",
    "circ_center = lower_rear + dot * lower_r_f\n",
    "\n",
    "circ_radius = np.linalg.norm(kp_lower_resting - circ_center)\n",
    "\n",
    "circ_center, circ_radius, np.dot(kp_lower_resting - circ_center, lower_r_f)\n",
    "\n",
    "kp_l_u = kp_upper_resting - kp_lower_resting\n",
    "kp_l_u /= np.linalg.norm(kp_l_u)"
   ]
  },
  {
   "cell_type": "markdown",
   "metadata": {},
   "source": [
    "### Write in Rear Wheel Values"
   ]
  },
  {
   "cell_type": "markdown",
   "metadata": {},
   "source": [
    "## Optimization"
   ]
  },
  {
   "cell_type": "code",
   "execution_count": null,
   "metadata": {},
   "outputs": [],
   "source": [
    "bounds = [\n",
    "  Real(steering_rack_bounds.min().iloc[0], steering_rack_bounds.max().iloc[0], name=\"steering rack x\"),\n",
    "  Real(0, 1, name=\"steering rack u\"),\n",
    "  Real(0, 1, name=\"steering rack v\"),\n",
    "  Real(0, sp_upright_rad, name=\"upright sp radius\"),\n",
    "  Real(0, 2 * np.pi, name=\"upright sp theta\"),\n",
    "  Real(0, np.pi, name=\"upright sp phi\"),\n",
    "  Real(rack_travel_raw - 0.25, rack_travel_raw + 0.25, name=\"rack travel\"),\n",
    "]\n",
    "\n",
    "bounds"
   ]
  },
  {
   "cell_type": "code",
   "execution_count": null,
   "metadata": {},
   "outputs": [],
   "source": [
    "def structify_arg(arg):\n",
    "  x, u, v, rad, theta, phi, rack_travel = arg\n",
    "\n",
    "  bb_corner = np.array(steering_rack_bounds.iloc[0], dtype='float64')\n",
    "  steering_rack_point = np.array([x - bb_corner[0], 0, 0]) + u * (forward * (1 - v) + top_forward * v) + v * up + bb_corner\n",
    "\n",
    "  outboard_point = sp_upright_raw + rad * np.array([\n",
    "    np.sin(theta) * np.cos(phi),\n",
    "    np.sin(theta) * np.sin(phi),\n",
    "    np.cos(theta),\n",
    "  ])\n",
    "\n",
    "  assert np.linalg.norm(outboard_point - sp_upright_raw) <= sp_upright_rad + 1e-10\n",
    "\n",
    "  return steering_rack_point, outboard_point, rack_travel\n",
    "\n",
    "# Check the Bounding Box Paramaterization\n",
    "for corner in range(8):\n",
    "  bb_corner = np.array(steering_rack_bounds.iloc[corner], dtype='float64')\n",
    "\n",
    "  match_found = False\n",
    "\n",
    "  for x in (bounds[0].low, bounds[0].high):\n",
    "    for u in (0, 1):\n",
    "      for v in (0, 1):\n",
    "        synth_point, _, _ = structify_arg((x, u, v, 0, 0, 0, rack_travel_raw))\n",
    "\n",
    "        current_match = np.allclose(synth_point, bb_corner, atol=1e-8)\n",
    "        match_found |= current_match\n",
    "        if current_match:\n",
    "          print(f\"Match @ {x} {u} {v} for {bb_corner} \")\n",
    "  \n",
    "  assert match_found, \"No match found for {}\".format(bb_corner)"
   ]
  },
  {
   "cell_type": "markdown",
   "metadata": {},
   "source": [
    "## Solve a particular steering geom"
   ]
  },
  {
   "cell_type": "markdown",
   "metadata": {},
   "source": [
    "### Find the lower kp point at droop and ext"
   ]
  },
  {
   "cell_type": "code",
   "execution_count": null,
   "metadata": {},
   "outputs": [],
   "source": [
    "def solve_given_upper(kp_upper):\n",
    "  kp_lower, _ = circ_to_sphere(kp_upper, kp_len, circ_center, circ_radius, lower_r_f)\n",
    "  \n",
    "  for anchor in (lower_rear, lower_front):\n",
    "      assert math.isclose(np.linalg.norm(kp_lower - anchor), np.linalg.norm(kp_lower - anchor)), f\"|{np.linalg.norm(pos - anchor)}| != |{np.linalg.norm(kp_lower - anchor)}|\" \n",
    "\n",
    "  return kp_lower"
   ]
  },
  {
   "cell_type": "code",
   "execution_count": null,
   "metadata": {
    "trusted": true
   },
   "outputs": [],
   "source": [
    "def evaluate_sp_pair(sp_inboard, sp_upright, rack_travel):\n",
    "  # print(f\"rack travel: {rack_travel}\")\n",
    "  # Project Upright SP -> KP\n",
    "  sp_kp_comp = np.dot(sp_upright - kp_lower_resting, kp_l_u)\n",
    "  sp_kp_alpha = sp_kp_comp / np.linalg.norm(kp_upper_resting - kp_lower_resting)\n",
    "\n",
    "  sp_kp = sp_kp_comp * kp_l_u + kp_lower_resting\n",
    "  sp_hat_resting = sp_upright - sp_kp\n",
    "  sp_radius = np.linalg.norm(sp_hat_resting)\n",
    "  sp_hat_resting /= sp_radius\n",
    "\n",
    "  # print(f\"sp_hat_resting: {sp_hat_resting}\")\n",
    "  \n",
    "  spin_hat = wheel - spindle\n",
    "  spin_hat /= np.linalg.norm(spin_hat)\n",
    "\n",
    "  # Construct a 3D Basis for the spindle axis\n",
    "  sp_cross_kp = np.cross(sp_hat_resting, kp_l_u)\n",
    "  sp_cross_kp /= np.linalg.norm(sp_cross_kp)\n",
    "  # print(f\"sp_cross_kp: {sp_cross_kp}\")\n",
    "\n",
    "  basis_matrix = np.vstack((sp_hat_resting, sp_cross_kp, kp_l_u))\n",
    "  \n",
    "  spindle_axis_coords = basis_matrix @ spin_hat\n",
    "  wheel_center_coords = basis_matrix @ (wheel - kp_lower_resting)\n",
    "  \n",
    "  # Project the wheel center into this coord system\n",
    "\n",
    "  toes = np.zeros((3, 3))\n",
    "  cambers = np.zeros((3, 3))\n",
    "  wheel_centers = np.zeros((3, 3, 3))\n",
    "  ackermen = np.zeros((3,))\n",
    "    \n",
    "  tie_rod_len = np.linalg.norm(sp_inboard - sp_upright)\n",
    "\n",
    "  for ind, (tag, rear_pos) in enumerate(zip(('Droop', 'Ride', 'Compress'), rear_wheel_positions)):\n",
    "      kp_upper = np.array(shock_travels[3 * ind:3 * (ind + 1)], dtype='float64')\n",
    "      kp_lower = solve_given_upper(kp_upper)\n",
    "\n",
    "      # print(f\"Target {kp_lower} Current {kp_lower}\")\n",
    "\n",
    "      # Compute steering across 3 Wheel Points\n",
    "      for steer_ind, rack in enumerate(np.linspace(-0.5, 0.5, 3)):\n",
    "          inboard = sp_inboard + np.array((rack_travel, 0, 0)) * rack\n",
    "\n",
    "          # print(f\"{tag} {rack}\")\n",
    "\n",
    "          # Solve For sp_steered\n",
    "          sp_anchor = kp_upper * sp_kp_alpha + (1 - sp_kp_alpha) * kp_lower\n",
    "          \n",
    "          kp_hat = kp_upper - kp_lower\n",
    "          kp_hat /= np.linalg.norm(kp_hat)\n",
    "          \n",
    "          \n",
    "          _, sp = circ_to_sphere(inboard, tie_rod_len, sp_anchor, sp_radius, kp_hat)\n",
    "              \n",
    "          # Create our coord system\n",
    "          sp_hat = sp - sp_anchor\n",
    "          sp_hat /= np.linalg.norm(sp_hat)\n",
    "          # print(f\"sp_hat target: {sp_hat_resting} actual {sp_hat}\")\n",
    "              \n",
    "          cross_hat = np.cross(sp_hat, kp_hat)\n",
    "          # print(f\"cross_hat target: {sp_cross_kp} actual {cross_hat}\")\n",
    "          \n",
    "          coord_to_head = np.c_[sp_hat, cross_hat, kp_hat]\n",
    "\n",
    "          spin_hat = coord_to_head @ spindle_axis_coords\n",
    "          # print(f\"Spin Hat {spin_hat}\")\n",
    "          wheel_centers[ind, steer_ind] = coord_to_head @ wheel_center_coords + kp_lower\n",
    "\n",
    "          # Camber\n",
    "          # Positive Camber is the extent to which the spindle axis points in the negative y direction\n",
    "          # Fully down is 90 degrees, fully up is -90 degrees \n",
    "          # Pure steer doesn't change things since that just rotates the spindle about the y axis \n",
    "          j_hat = np.array((0, 1, 0)) \n",
    "          camber = np.degrees(np.pi / 2\n",
    "                              - np.arccos(\n",
    "                                  np.dot(\n",
    "                                    spin_hat,\n",
    "                                    -j_hat\n",
    "                                    )\n",
    "                                )\n",
    "                            )\n",
    "          \n",
    "          # Steering Angle is the extent to which the wheel plane aligns with the z axis\n",
    "          # With no camber, the dot product of the z axis and the spindle axis provides a proxy for the steering angle\n",
    "          # The wheel forward axis should be immune to pure camber effects \n",
    "          # So work with the cross product of the up (y) and steering axis\n",
    "          # \n",
    "          # Mind the left handed coord system \n",
    "          wheel_forward = np.cross(spin_hat, j_hat)\n",
    "          wheel_forward /= np.linalg.norm(wheel_forward)\n",
    "          # print(f\"Wheel_forward {wheel_forward}\")\n",
    "\n",
    "\n",
    "          # Define positive steer as outward and negative steer as inward\n",
    "          i_hat = np.array((1, 0, 0))\n",
    "          steer_alignment = np.dot(wheel_forward, i_hat)\n",
    "          # print(f\"Steer Alignment {steer_alignment}\")\n",
    "          steer_angle = np.degrees(np.pi / 2 - np.arccos(steer_alignment))\n",
    "          # print(f\"Steer Angle {steer_angle}\")\n",
    "\n",
    "\n",
    "          toes[ind, steer_ind] = steer_angle\n",
    "          cambers[ind, steer_ind] = camber\n",
    "          # print()\n",
    "      \n",
    "      # Compute Ackermann at this level of compression\n",
    "      # Compute track_width and wheelbase at center steer \n",
    "      RIDE_IND = 1 \n",
    "      track_width = 2 *wheel_centers[ind, RIDE_IND, 0]\n",
    "      wheelbase = np.dot(np.array((0, 0, 1)), wheel_centers[ind, RIDE_IND] - rear_pos)\n",
    "      # print(f\"Width {track_width} base {wheelbase}\")\n",
    "      ack_tan = np.arctan2(wheelbase, wheelbase / np.tan(- np.radians(toes[ind, 0])) - track_width)\n",
    "      # Make it a percent\n",
    "      directionality = toes[ind, 2] + toes[ind, 0]\n",
    "\n",
    "      ackermen[ind] = np.radians(toes[ind, 2]) / ack_tan * 100 * abs(directionality) / directionality\n",
    "\n",
    "      # print()\n",
    "  \n",
    "  return toes, ackermen, cambers\n",
    "\n",
    "np.set_printoptions(precision=3, suppress=True, sign=' ')\n",
    "sp_inboard_testing = np.array((-0.0, 10.0, 15.0))\n",
    "toes, ackermen, camber = evaluate_sp_pair(sp_inboard_testing, sp_upright_raw, rack_travel_raw)\n",
    "toes, ackermen, camber"
   ]
  },
  {
   "cell_type": "code",
   "execution_count": null,
   "metadata": {},
   "outputs": [],
   "source": [
    "def verify_bumps(toes):\n",
    "  return toes[2] - toes[0]\n",
    "verify_bumps(toes)"
   ]
  },
  {
   "cell_type": "code",
   "execution_count": null,
   "metadata": {},
   "outputs": [],
   "source": [
    "FAIL_VALUE = 1e4\n",
    "\n",
    "def obj_func(x, exp=2):\n",
    "  inboard, outboard, rack_travel = structify_arg(x)\n",
    "\n",
    "  try:\n",
    "    toes, ackermen, cambers = evaluate_sp_pair(inboard, outboard, rack_travel)\n",
    "  except Exception as e:\n",
    "    return FAIL_VALUE\n",
    "  \n",
    "  droups = toes[0] \n",
    "  # rides = toes[1] \n",
    "  comps = toes[2]\n",
    "  bumps = comps - droups\n",
    "\n",
    "  # Ignore droop Ackermann\n",
    "  weighted_error = np.hstack([bumps,\n",
    "                              0.125 * (ackermen - ackermann_targets)[1],\n",
    "                              0.25 * (ackermen - ackermann_targets)[2],\n",
    "                              2 * (toes[0, 2] - full_droop_inside)])\n",
    "  return np.sum(np.abs(weighted_error) ** exp)"
   ]
  },
  {
   "cell_type": "markdown",
   "metadata": {},
   "source": [
    "# Running SkOpt"
   ]
  },
  {
   "cell_type": "code",
   "execution_count": 27,
   "metadata": {},
   "outputs": [],
   "source": [
    "def argmin(a):\n",
    "    return min(range(len(a)), key=lambda x : a[x])\n",
    "\n",
    "def argmax(a):\n",
    "    return max(range(len(a)), key=lambda x : a[x])\n",
    "\n",
    "def validate_marg(optimizer):\n",
    "  marg = optimizer.Xi[argmin(optimizer.yi)]\n",
    "  struct = structify_arg(marg)\n",
    "  toes, ackermen, cambers = evaluate_sp_pair(*struct)\n",
    "\n",
    "  print(f\"marg:\\n{marg}\")\n",
    "  print(f\"inboard point:\\n{struct[0]}\")\n",
    "  print(f\"outboard point:\\n{struct[1]}\")\n",
    "  print(f\"toes:\\n{toes}\")\n",
    "  print(f\"Ackermen:\\n{ackermen}\")\n",
    "  print(f\"cambers:\\n{cambers}\")\n",
    "  print(f\"bumps:\\n{verify_bumps(toes)}\")\n",
    "  print()"
   ]
  },
  {
   "cell_type": "code",
   "execution_count": null,
   "metadata": {},
   "outputs": [],
   "source": [
    "for exp in (2,): \n",
    "  optimizer = Optimizer(\n",
    "      dimensions=bounds,\n",
    "      # random_state=1,\n",
    "      base_estimator='gp',\n",
    "      # Cost to evaluate func\n",
    "      #  et rf ?\n",
    "      #  <= GBRT <= GP\n",
    "  )\n",
    "  for iter in trange(1_500):\n",
    "    arg = optimizer.ask()\n",
    "    result = obj_func(arg, exp=exp)\n",
    "    optimizer.tell(arg, result)\n",
    "  \n",
    "  \n",
    "  objective = plot_objective(optimizer.get_result(), n_points=10, sample_source='result', show_points=False) \n",
    "  plt.show()\n",
    "  print(f\"Obj L{exp} norm\")\n",
    "  validate_marg(optimizer)"
   ]
  },
  {
   "cell_type": "code",
   "execution_count": 26,
   "metadata": {},
   "outputs": [
    {
     "ename": "NameError",
     "evalue": "name 'optimizer' is not defined",
     "output_type": "error",
     "traceback": [
      "\u001b[1;31m---------------------------------------------------------------------------\u001b[0m",
      "\u001b[1;31mNameError\u001b[0m                                 Traceback (most recent call last)",
      "Cell \u001b[1;32mIn[26], line 1\u001b[0m\n\u001b[1;32m----> 1\u001b[0m convergence \u001b[38;5;241m=\u001b[39m plot_convergence(\u001b[43moptimizer\u001b[49m\u001b[38;5;241m.\u001b[39mget_result(), yscale\u001b[38;5;241m=\u001b[39m\u001b[38;5;124m'\u001b[39m\u001b[38;5;124mlog\u001b[39m\u001b[38;5;124m'\u001b[39m)\n",
      "\u001b[1;31mNameError\u001b[0m: name 'optimizer' is not defined"
     ]
    }
   ],
   "source": [
    "convergence = plot_convergence(optimizer.get_result(), yscale='log')"
   ]
  },
  {
   "cell_type": "code",
   "execution_count": null,
   "metadata": {},
   "outputs": [],
   "source": [
    "evaluations = plot_evaluations(optimizer.get_result())"
   ]
  },
  {
   "cell_type": "code",
   "execution_count": 25,
   "metadata": {},
   "outputs": [
    {
     "ename": "NameError",
     "evalue": "name 'optimizer' is not defined",
     "output_type": "error",
     "traceback": [
      "\u001b[1;31m---------------------------------------------------------------------------\u001b[0m",
      "\u001b[1;31mNameError\u001b[0m                                 Traceback (most recent call last)",
      "Cell \u001b[1;32mIn[25], line 1\u001b[0m\n\u001b[1;32m----> 1\u001b[0m objective \u001b[38;5;241m=\u001b[39m plot_objective(\u001b[43moptimizer\u001b[49m\u001b[38;5;241m.\u001b[39mget_result(),\n\u001b[0;32m      2\u001b[0m                           \u001b[38;5;66;03m#  n_points=10,\u001b[39;00m\n\u001b[0;32m      3\u001b[0m                            levels\u001b[38;5;241m=\u001b[39m\u001b[38;5;241m20\u001b[39m,\n\u001b[0;32m      4\u001b[0m                            sample_source\u001b[38;5;241m=\u001b[39m\u001b[38;5;124m'\u001b[39m\u001b[38;5;124mresult\u001b[39m\u001b[38;5;124m'\u001b[39m,\n\u001b[0;32m      5\u001b[0m                            show_points\u001b[38;5;241m=\u001b[39m\u001b[38;5;28;01mFalse\u001b[39;00m) \n",
      "\u001b[1;31mNameError\u001b[0m: name 'optimizer' is not defined"
     ]
    }
   ],
   "source": [
    "objective = plot_objective(optimizer.get_result(),\n",
    "                          #  n_points=10,\n",
    "                           levels=20,\n",
    "                           sample_source='result',\n",
    "                           show_points=False) "
   ]
  },
  {
   "cell_type": "code",
   "execution_count": null,
   "metadata": {},
   "outputs": [],
   "source": []
  }
 ],
 "metadata": {
  "kernelspec": {
   "display_name": "Python 3",
   "language": "python",
   "name": "python3"
  },
  "language_info": {
   "codemirror_mode": {
    "name": "ipython",
    "version": 3
   },
   "file_extension": ".py",
   "mimetype": "text/x-python",
   "name": "python",
   "nbconvert_exporter": "python",
   "pygments_lexer": "ipython3",
   "version": "3.11.9"
  }
 },
 "nbformat": 4,
 "nbformat_minor": 2
}
